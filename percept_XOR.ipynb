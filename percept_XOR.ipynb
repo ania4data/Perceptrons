{
 "cells": [
  {
   "cell_type": "code",
   "execution_count": 12,
   "metadata": {},
   "outputs": [
    {
     "name": "stdout",
     "output_type": "stream",
     "text": [
      "w,b,iteration [ 6.95540877e-05 -8.74471640e-04] -1.0408340855860843e-16 9999\n",
      "Train score: 0.75\n"
     ]
    },
    {
     "data": {
      "image/png": "[encoded data removed]",
      "text/plain": [
       "<Figure size 432x288 with 1 Axes>"
      ]
     },
     "metadata": {},
     "output_type": "display_data"
    }
   ],
   "source": [
    "import numpy as np\n",
    "import matplotlib.pyplot as plt\n",
    "from get_data import fig_data,xor_data,donut_data\n",
    "\n",
    "\n",
    "def get__data():\n",
    "\n",
    "    w=np.array([-0.5,0.5])\n",
    "    x=np.random.random((1000,2))*2-1\n",
    "    b=0.1\n",
    "    #y=np.dot((w.T),x)\n",
    "    y=np.sign(np.dot(x,w)+b)\n",
    "    return x,y\n",
    "\n",
    "class perceptrons:\n",
    "        \n",
    "    \n",
    "    def fit(self,x,y,learning_rate=1.0,epochs=10000):\n",
    "        \n",
    "        D=np.shape(x)[1]\n",
    "        N=np.shape(x)[0]\n",
    "        self.w=np.random.randn(D)\n",
    "        self.b=0\n",
    "        costs=[]\n",
    "        \n",
    "        for i in range(epochs):\n",
    "            \n",
    "            Y_pred=self.predict(x)\n",
    "            \n",
    "            list_false=np.nonzero(Y_pred!=y)[0]\n",
    "            \n",
    "            if len(list_false)==0:\n",
    "                \n",
    "                break\n",
    "            \n",
    "            #for j in list_false:       #all the content change at the time, does not work. one by one works\n",
    "                \n",
    "            #    self.w=self.w+learning_rate*y[j]*x[j]\n",
    "            #    self.b=self.b+learning_rate**y[j]*1\n",
    "            #choose one sample \n",
    "            j=np.random.choice(list_false)\n",
    "            self.w=self.w+learning_rate*y[j]*x[j]\n",
    "            self.b=self.b+learning_rate*y[j]*1\n",
    "            \n",
    "            accu=len(list_false)/float(N)\n",
    "            costs.append(accu)\n",
    "                \n",
    "        print('w,b,iteration',self.w,self.b,i)    \n",
    "        plt.plot(costs)            \n",
    "            \n",
    "    def predict(self,x):\n",
    "        \n",
    "        return np.sign(np.dot(x,self.w)+self.b)\n",
    "    \n",
    "    def score(self,x,y):\n",
    "        Y_pred=self.predict(x)\n",
    "        score_=np.mean(Y_pred==y)\n",
    "        return score_\n",
    "        \n",
    "            \n",
    "                \n",
    "if __name__=='__main__':\n",
    "    \n",
    "    Xtrain=np.array([[1.,0.],[0.,0.],[1.,1.],[0.,1.]])\n",
    "    Ytrain=np.array([1.,-1.,-1.,1.])\n",
    "     \n",
    "\n",
    "                   \n",
    "    percep=perceptrons()\n",
    "    percep.fit(Xtrain,Ytrain,learning_rate=0.001)\n",
    "    print('Train score:',percep.score(Xtrain,Ytrain))\n",
    "    #print('Test score:',percep.score(Xtest,Ytest))\n",
    "    \n",
    "    \n"
   ]
  },
  {
   "cell_type": "code",
   "execution_count": 78,
   "metadata": {},
   "outputs": [
    {
     "data": {
      "text/plain": [
       "(array([0], dtype=int64),)"
      ]
     },
     "execution_count": 78,
     "metadata": {},
     "output_type": "execute_result"
    }
   ],
   "source": [
    "np.nonzero(1!=2)"
   ]
  },
  {
   "cell_type": "code",
   "execution_count": 63,
   "metadata": {},
   "outputs": [
    {
     "data": {
      "text/plain": [
       "array([0.01270435, 0.39202302])"
      ]
     },
     "execution_count": 63,
     "metadata": {},
     "output_type": "execute_result"
    }
   ],
   "source": [
    "x=np.random.random((200,2))\n",
    "np.random.rand(2)"
   ]
  },
  {
   "cell_type": "code",
   "execution_count": 75,
   "metadata": {},
   "outputs": [],
   "source": [
    "y=np.sign(np.dot(x,w))\n"
   ]
  },
  {
   "cell_type": "code",
   "execution_count": 76,
   "metadata": {},
   "outputs": [],
   "source": [
    "y=np.dot(x,w)\n"
   ]
  },
  {
   "cell_type": "code",
   "execution_count": 1,
   "metadata": {},
   "outputs": [],
   "source": [
    "Xtrain=[[1,0],[0,0],[1,1],[0,1]]"
   ]
  },
  {
   "cell_type": "code",
   "execution_count": 4,
   "metadata": {},
   "outputs": [
    {
     "data": {
      "text/plain": [
       "(4, 2)"
      ]
     },
     "execution_count": 4,
     "metadata": {},
     "output_type": "execute_result"
    }
   ],
   "source": [
    "import numpy as np\n",
    "np.shape(Xtrain)"
   ]
  },
  {
   "cell_type": "code",
   "execution_count": null,
   "metadata": {},
   "outputs": [],
   "source": []
  }
 ],
 "metadata": {
  "kernelspec": {
   "display_name": "Python 3",
   "language": "python",
   "name": "python3"
  },
  "language_info": {
   "codemirror_mode": {
    "name": "ipython",
    "version": 3
   },
   "file_extension": ".py",
   "mimetype": "text/x-python",
   "name": "python",
   "nbconvert_exporter": "python",
   "pygments_lexer": "ipython3",
   "version": "3.6.4"
  }
 },
 "nbformat": 4,
 "nbformat_minor": 2
}
